{
 "cells": [
  {
   "attachments": {},
   "cell_type": "markdown",
   "metadata": {},
   "source": [
    "the goal of this workflow is to look for frequency of end of day pins on the spx index"
   ]
  },
  {
   "cell_type": "code",
   "execution_count": 1,
   "metadata": {},
   "outputs": [],
   "source": [
    "import yfinance as yf\n",
    "import datetime as dt\n",
    "import matplotlib.pyplot as plt\n",
    "import numpy as np\n",
    "import pandas as pd"
   ]
  },
  {
   "cell_type": "code",
   "execution_count": 2,
   "metadata": {},
   "outputs": [
    {
     "name": "stdout",
     "output_type": "stream",
     "text": [
      "[*********************100%***********************]  3 of 3 completed\n"
     ]
    }
   ],
   "source": [
    "stocks = yf.download(\n",
    "    # tickers='^GSPC ^VIX',\n",
    "    tickers = '^GSPC ^XSP ^VIX',\n",
    "    # use \"period\" instead of start/end\n",
    "    # valid periods: 1d,5d,1mo,3mo,6mo,1y,2y,5y,10y,ytd,max\n",
    "    # (optional, default is '1mo')\n",
    "    period = \"ytd\",\n",
    "    # start=\"2021-01-01\", end=\"2022-01-01\",\n",
    "    # fetch data by interval (including intraday if period < 60 days)\n",
    "    # valid intervals: 1m,2m,5m,15m,30m,60m,90m,1h,1d,5d,1wk,1mo,3mo\n",
    "    # (optional, default is '1d')\n",
    "    interval = \"1d\",\n",
    "    # group by ticker (to access via data['SPY'])\n",
    "    # (optional, default is 'column')\n",
    "    group_by = 'ticker',\n",
    "    # adjust all OHLC automatically\n",
    "    # (optional, default is False)\n",
    "    auto_adjust = True,\n",
    "    # download pre/post regular market hours data\n",
    "    # (optional, default is False)\n",
    "    prepost = True,\n",
    "    # use threads for mass downloading? (True/False/Integer)\n",
    "    # (optional, default is True)\n",
    "    threads = True\n",
    ")\n",
    "stocks = stocks.dropna()"
   ]
  },
  {
   "cell_type": "code",
   "execution_count": 3,
   "metadata": {},
   "outputs": [],
   "source": [
    "select_ticker = '^GSPC'"
   ]
  },
  {
   "cell_type": "code",
   "execution_count": 4,
   "metadata": {},
   "outputs": [],
   "source": [
    "stocks['stocks_ratio'] = [float(str(i)[2:7]) for i in stocks[select_ticker, 'Close']]\n",
    "stocks['move'] =  stocks[select_ticker, 'Close'].diff()"
   ]
  },
  {
   "cell_type": "code",
   "execution_count": 5,
   "metadata": {},
   "outputs": [
    {
     "data": {
      "text/html": [
       "<div>\n",
       "<style scoped>\n",
       "    .dataframe tbody tr th:only-of-type {\n",
       "        vertical-align: middle;\n",
       "    }\n",
       "\n",
       "    .dataframe tbody tr th {\n",
       "        vertical-align: top;\n",
       "    }\n",
       "\n",
       "    .dataframe thead tr th {\n",
       "        text-align: left;\n",
       "    }\n",
       "\n",
       "    .dataframe thead tr:last-of-type th {\n",
       "        text-align: right;\n",
       "    }\n",
       "</style>\n",
       "<table border=\"1\" class=\"dataframe\">\n",
       "  <thead>\n",
       "    <tr>\n",
       "      <th></th>\n",
       "      <th colspan=\"5\" halign=\"left\">^GSPC</th>\n",
       "      <th colspan=\"5\" halign=\"left\">^VIX</th>\n",
       "      <th colspan=\"5\" halign=\"left\">^XSP</th>\n",
       "      <th>stocks_ratio</th>\n",
       "      <th>move</th>\n",
       "    </tr>\n",
       "    <tr>\n",
       "      <th></th>\n",
       "      <th>Open</th>\n",
       "      <th>High</th>\n",
       "      <th>Low</th>\n",
       "      <th>Close</th>\n",
       "      <th>Volume</th>\n",
       "      <th>Open</th>\n",
       "      <th>High</th>\n",
       "      <th>Low</th>\n",
       "      <th>Close</th>\n",
       "      <th>Volume</th>\n",
       "      <th>Open</th>\n",
       "      <th>High</th>\n",
       "      <th>Low</th>\n",
       "      <th>Close</th>\n",
       "      <th>Volume</th>\n",
       "      <th></th>\n",
       "      <th></th>\n",
       "    </tr>\n",
       "    <tr>\n",
       "      <th>Date</th>\n",
       "      <th></th>\n",
       "      <th></th>\n",
       "      <th></th>\n",
       "      <th></th>\n",
       "      <th></th>\n",
       "      <th></th>\n",
       "      <th></th>\n",
       "      <th></th>\n",
       "      <th></th>\n",
       "      <th></th>\n",
       "      <th></th>\n",
       "      <th></th>\n",
       "      <th></th>\n",
       "      <th></th>\n",
       "      <th></th>\n",
       "      <th></th>\n",
       "      <th></th>\n",
       "    </tr>\n",
       "  </thead>\n",
       "  <tbody>\n",
       "    <tr>\n",
       "      <th>2022-01-03</th>\n",
       "      <td>4778.140137</td>\n",
       "      <td>4796.640137</td>\n",
       "      <td>4758.169922</td>\n",
       "      <td>4796.560059</td>\n",
       "      <td>3831020000</td>\n",
       "      <td>17.600000</td>\n",
       "      <td>18.540001</td>\n",
       "      <td>16.559999</td>\n",
       "      <td>16.600000</td>\n",
       "      <td>0</td>\n",
       "      <td>477.809998</td>\n",
       "      <td>479.660004</td>\n",
       "      <td>475.820007</td>\n",
       "      <td>479.660004</td>\n",
       "      <td>0</td>\n",
       "      <td>96.56</td>\n",
       "      <td>NaN</td>\n",
       "    </tr>\n",
       "    <tr>\n",
       "      <th>2022-01-04</th>\n",
       "      <td>4804.509766</td>\n",
       "      <td>4818.620117</td>\n",
       "      <td>4774.270020</td>\n",
       "      <td>4793.540039</td>\n",
       "      <td>4683170000</td>\n",
       "      <td>16.570000</td>\n",
       "      <td>17.809999</td>\n",
       "      <td>16.340000</td>\n",
       "      <td>16.910000</td>\n",
       "      <td>0</td>\n",
       "      <td>480.450012</td>\n",
       "      <td>481.859985</td>\n",
       "      <td>477.429993</td>\n",
       "      <td>479.350006</td>\n",
       "      <td>0</td>\n",
       "      <td>93.54</td>\n",
       "      <td>-3.020020</td>\n",
       "    </tr>\n",
       "    <tr>\n",
       "      <th>2022-01-05</th>\n",
       "      <td>4787.990234</td>\n",
       "      <td>4797.700195</td>\n",
       "      <td>4699.439941</td>\n",
       "      <td>4700.580078</td>\n",
       "      <td>4887960000</td>\n",
       "      <td>17.070000</td>\n",
       "      <td>20.170000</td>\n",
       "      <td>16.580000</td>\n",
       "      <td>19.730000</td>\n",
       "      <td>0</td>\n",
       "      <td>478.799988</td>\n",
       "      <td>479.769989</td>\n",
       "      <td>469.940002</td>\n",
       "      <td>470.059998</td>\n",
       "      <td>0</td>\n",
       "      <td>0.58</td>\n",
       "      <td>-92.959961</td>\n",
       "    </tr>\n",
       "    <tr>\n",
       "      <th>2022-01-06</th>\n",
       "      <td>4693.390137</td>\n",
       "      <td>4725.009766</td>\n",
       "      <td>4671.259766</td>\n",
       "      <td>4696.049805</td>\n",
       "      <td>4295280000</td>\n",
       "      <td>20.290001</td>\n",
       "      <td>21.059999</td>\n",
       "      <td>19.080000</td>\n",
       "      <td>19.610001</td>\n",
       "      <td>0</td>\n",
       "      <td>469.339996</td>\n",
       "      <td>472.500000</td>\n",
       "      <td>467.130005</td>\n",
       "      <td>469.609985</td>\n",
       "      <td>0</td>\n",
       "      <td>96.04</td>\n",
       "      <td>-4.530273</td>\n",
       "    </tr>\n",
       "    <tr>\n",
       "      <th>2022-01-07</th>\n",
       "      <td>4697.660156</td>\n",
       "      <td>4707.950195</td>\n",
       "      <td>4662.740234</td>\n",
       "      <td>4677.029785</td>\n",
       "      <td>4181510000</td>\n",
       "      <td>19.850000</td>\n",
       "      <td>20.799999</td>\n",
       "      <td>18.570000</td>\n",
       "      <td>18.760000</td>\n",
       "      <td>0</td>\n",
       "      <td>469.769989</td>\n",
       "      <td>470.799988</td>\n",
       "      <td>466.269989</td>\n",
       "      <td>467.700012</td>\n",
       "      <td>0</td>\n",
       "      <td>77.02</td>\n",
       "      <td>-19.020020</td>\n",
       "    </tr>\n",
       "  </tbody>\n",
       "</table>\n",
       "</div>"
      ],
      "text/plain": [
       "                  ^GSPC                                                     \\\n",
       "                   Open         High          Low        Close      Volume   \n",
       "Date                                                                         \n",
       "2022-01-03  4778.140137  4796.640137  4758.169922  4796.560059  3831020000   \n",
       "2022-01-04  4804.509766  4818.620117  4774.270020  4793.540039  4683170000   \n",
       "2022-01-05  4787.990234  4797.700195  4699.439941  4700.580078  4887960000   \n",
       "2022-01-06  4693.390137  4725.009766  4671.259766  4696.049805  4295280000   \n",
       "2022-01-07  4697.660156  4707.950195  4662.740234  4677.029785  4181510000   \n",
       "\n",
       "                 ^VIX                                                ^XSP  \\\n",
       "                 Open       High        Low      Close Volume        Open   \n",
       "Date                                                                        \n",
       "2022-01-03  17.600000  18.540001  16.559999  16.600000      0  477.809998   \n",
       "2022-01-04  16.570000  17.809999  16.340000  16.910000      0  480.450012   \n",
       "2022-01-05  17.070000  20.170000  16.580000  19.730000      0  478.799988   \n",
       "2022-01-06  20.290001  21.059999  19.080000  19.610001      0  469.339996   \n",
       "2022-01-07  19.850000  20.799999  18.570000  18.760000      0  469.769989   \n",
       "\n",
       "                                                      stocks_ratio       move  \n",
       "                  High         Low       Close Volume                          \n",
       "Date                                                                           \n",
       "2022-01-03  479.660004  475.820007  479.660004      0        96.56        NaN  \n",
       "2022-01-04  481.859985  477.429993  479.350006      0        93.54  -3.020020  \n",
       "2022-01-05  479.769989  469.940002  470.059998      0         0.58 -92.959961  \n",
       "2022-01-06  472.500000  467.130005  469.609985      0        96.04  -4.530273  \n",
       "2022-01-07  470.799988  466.269989  467.700012      0        77.02 -19.020020  "
      ]
     },
     "execution_count": 5,
     "metadata": {},
     "output_type": "execute_result"
    }
   ],
   "source": [
    "stocks.head()"
   ]
  },
  {
   "cell_type": "code",
   "execution_count": 6,
   "metadata": {},
   "outputs": [],
   "source": [
    "# 10 wide bins\n",
    "l = list(np.linspace(start=0, stop=110, num=12, endpoint=True)-5)\n",
    "# 5 wide bins\n",
    "# l = list(np.linspace(start=0, stop=105, num=22, endpoint=True)-2.5)"
   ]
  },
  {
   "cell_type": "code",
   "execution_count": 7,
   "metadata": {},
   "outputs": [
    {
     "data": {
      "text/plain": [
       "[-5.0, 5.0, 15.0, 25.0, 35.0, 45.0, 55.0, 65.0, 75.0, 85.0, 95.0, 105.0]"
      ]
     },
     "execution_count": 7,
     "metadata": {},
     "output_type": "execute_result"
    }
   ],
   "source": [
    "l"
   ]
  },
  {
   "cell_type": "code",
   "execution_count": 8,
   "metadata": {},
   "outputs": [],
   "source": [
    "# Here we count. We intentionally wrap 97.5 up to 0 and add it to the histogram after. Then cut off the extra bin.\n",
    "wins = stocks['stocks_ratio'][stocks.move > 0]\n",
    "losers = stocks['stocks_ratio'][stocks.move < 0]\n",
    "my_hist_win_final, my_hist_bins = np.histogram(wins, bins=l)\n",
    "my_hist_lose_final, my_hist_bins = np.histogram(losers, bins=l)\n",
    "# my_hist_final, my_hist_bins = np.histogram(stocks['stocks_ratio'], bins=list(np.linspace(start=0, stop=105, num=22, endpoint=True)-2.5))\n",
    "my_hist_win_final[0] += my_hist_win_final[-1]\n",
    "my_hist_win_final = my_hist_win_final[:-1]\n",
    "\n",
    "my_hist_lose_final[0] += my_hist_lose_final[-1]\n",
    "my_hist_lose_final = my_hist_lose_final[:-1]"
   ]
  },
  {
   "cell_type": "code",
   "execution_count": 9,
   "metadata": {},
   "outputs": [
    {
     "data": {
      "text/plain": [
       "(array([19,  8, 13, 18,  9, 11, 20, 11, 12, 14], dtype=int64),\n",
       " array([ -5.,   5.,  15.,  25.,  35.,  45.,  55.,  65.,  75.,  85.,  95.,\n",
       "        105.]))"
      ]
     },
     "execution_count": 9,
     "metadata": {},
     "output_type": "execute_result"
    }
   ],
   "source": [
    "my_hist_lose_final, my_hist_bins"
   ]
  },
  {
   "cell_type": "code",
   "execution_count": 11,
   "metadata": {},
   "outputs": [
    {
     "data": {
      "image/png": "[encoded data removed]",
      "text/plain": [
       "<Figure size 640x480 with 1 Axes>"
      ]
     },
     "metadata": {},
     "output_type": "display_data"
    }
   ],
   "source": [
    "# built in pandas histogram. won't let me recenter. so i'm going to slice up the probabilities and reassemble.\n",
    "ax = stocks.plot.hist(column='stocks_ratio', bins=list(np.linspace(start=0, stop=105, num=22, endpoint=True)-2.5), density=True)\n",
    "\n",
    "ax.set_xlabel('Closing Price')\n",
    "\n",
    "ax.set_ylabel('Probability')\n",
    "\n",
    "ax.legend()\n",
    "\n",
    "ax.grid()"
   ]
  },
  {
   "cell_type": "code",
   "execution_count": 12,
   "metadata": {},
   "outputs": [],
   "source": [
    "bins_to_plot = [int((my_hist_bins[i]+my_hist_bins[i+1])/2) for i in range(len(my_hist_bins[:-2]))]"
   ]
  },
  {
   "cell_type": "code",
   "execution_count": 19,
   "metadata": {},
   "outputs": [
    {
     "data": {
      "image/png": "[encoded data removed]",
      "text/plain": [
       "<Figure size 640x480 with 1 Axes>"
      ]
     },
     "metadata": {},
     "output_type": "display_data"
    }
   ],
   "source": [
    "ax = plt.figure(facecolor='tab:grey')\n",
    "\n",
    "tmp=plt.axes()\n",
    "\n",
    "tmp.set_facecolor('tab:grey')\n",
    "\n",
    "half_bin = int(bins_to_plot.__len__() / 2)\n",
    "\n",
    "my_x = bins_to_plot[half_bin:]+bins_to_plot[:half_bin]\n",
    "\n",
    "my_x = [str(i) for i in my_x]\n",
    "\n",
    "my_y = list(my_hist_win_final[half_bin:]) + list(my_hist_win_final[:half_bin])\n",
    "\n",
    "plt.bar(bins_to_plot, my_y, 3, color='tab:green')\n",
    "\n",
    "my_y2 = list(my_hist_lose_final[half_bin:]) + list(my_hist_lose_final[:half_bin])\n",
    "\n",
    "plt.bar(bins_to_plot, my_y2, 3, bottom=my_y, color='tab:red')\n",
    "\n",
    "plt.xticks(bins_to_plot, my_x)\n",
    "\n",
    "plt.tick_params(axis='both', colors='white')\n",
    "\n",
    "plt.xlabel('price close', fontsize='x-large', color='white')\n",
    "\n",
    "plt.ylabel('events', fontsize='x-large', color='white')\n",
    "\n",
    "plt.grid(alpha=.3, color='white')\n",
    "\n",
    "plt.savefig('all_closes', transparent=True)"
   ]
  },
  {
   "cell_type": "code",
   "execution_count": 21,
   "metadata": {},
   "outputs": [
    {
     "data": {
      "image/png": "[encoded data removed]",
      "text/plain": [
       "<Figure size 640x480 with 1 Axes>"
      ]
     },
     "metadata": {},
     "output_type": "display_data"
    }
   ],
   "source": [
    "ax = plt.figure(facecolor='tab:grey')\n",
    "\n",
    "tmp=plt.axes()\n",
    "\n",
    "tmp.set_facecolor('tab:grey')\n",
    "\n",
    "half_bin = int(bins_to_plot.__len__() / 2)\n",
    "\n",
    "my_x = bins_to_plot[half_bin:]+bins_to_plot[:half_bin]\n",
    "\n",
    "my_x = [str(i) for i in my_x]\n",
    "\n",
    "my_y2 = list(my_hist_lose_final[half_bin:]) + list(my_hist_lose_final[:half_bin])\n",
    "\n",
    "plt.bar(bins_to_plot, my_y2, 3, color='tab:red')\n",
    "\n",
    "plt.xticks(bins_to_plot, my_x)\n",
    "\n",
    "plt.tick_params(axis='both', colors='white')\n",
    "\n",
    "plt.xlabel('price close', fontsize='x-large', color='white')\n",
    "\n",
    "plt.ylabel('events', fontsize='x-large', color='white')\n",
    "\n",
    "plt.grid(alpha=.3)\n",
    "\n",
    "plt.savefig('red_closes', transparent=True)"
   ]
  },
  {
   "cell_type": "code",
   "execution_count": 22,
   "metadata": {},
   "outputs": [
    {
     "data": {
      "image/png": "[encoded data removed]",
      "text/plain": [
       "<Figure size 640x480 with 1 Axes>"
      ]
     },
     "metadata": {},
     "output_type": "display_data"
    }
   ],
   "source": [
    "ax = plt.figure(facecolor='tab:grey')\n",
    "\n",
    "tmp=plt.axes()\n",
    "\n",
    "tmp.set_facecolor('tab:grey')\n",
    "\n",
    "half_bin = int(bins_to_plot.__len__() / 2)\n",
    "\n",
    "my_x = bins_to_plot[half_bin:]+bins_to_plot[:half_bin]\n",
    "\n",
    "my_x = [str(i) for i in my_x]\n",
    "\n",
    "my_y = list(my_hist_win_final[half_bin:]) + list(my_hist_win_final[:half_bin])\n",
    "\n",
    "plt.bar(bins_to_plot, my_y, 3, color='tab:green')\n",
    "\n",
    "plt.xticks(bins_to_plot, my_x)\n",
    "\n",
    "plt.tick_params(axis='both', colors='white')\n",
    "\n",
    "plt.xlabel('price close', fontsize='x-large', color='white')\n",
    "\n",
    "plt.ylabel('events', fontsize='x-large', color='white')\n",
    "\n",
    "plt.grid(alpha=.3)\n",
    "\n",
    "plt.savefig('green_closes', transparent=True)"
   ]
  },
  {
   "cell_type": "code",
   "execution_count": null,
   "metadata": {},
   "outputs": [],
   "source": []
  }
 ],
 "metadata": {
  "kernelspec": {
   "display_name": "Python 3.8.12 ('base')",
   "language": "python",
   "name": "python3"
  },
  "language_info": {
   "codemirror_mode": {
    "name": "ipython",
    "version": 3
   },
   "file_extension": ".py",
   "mimetype": "text/x-python",
   "name": "python",
   "nbconvert_exporter": "python",
   "pygments_lexer": "ipython3",
   "version": "3.8.13"
  },
  "orig_nbformat": 4,
  "vscode": {
   "interpreter": {
    "hash": "58e26834e990414c1bc6ac038047a73d7db30842b74fedfb88967eb058ba9f52"
   }
  }
 },
 "nbformat": 4,
 "nbformat_minor": 2
}
